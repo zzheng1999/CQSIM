{
 "cells": [
  {
   "cell_type": "code",
   "execution_count": 17,
   "id": "9b5de2f3",
   "metadata": {},
   "outputs": [],
   "source": [
    "import matplotlib as plt\n",
    "import pandas as pd\n",
    "import numpy as np\n",
    "from datetime import datetime"
   ]
  },
  {
   "cell_type": "code",
   "execution_count": 18,
   "id": "a1df7523",
   "metadata": {},
   "outputs": [],
   "source": [
    "# Read the required columns along with 'QUEUE_NAME' from the CSV file\n",
    "columns_to_read = ['QUEUED_TIMESTAMP', 'RUNTIME_SECONDS', 'WALLTIME_SECONDS', 'NODES_REQUESTED', 'QUEUE_NAME', 'QUEUED_WAIT_SECONDS', 'COBALT_JOBID']\n",
    "df = pd.read_csv('ANL-ALCF-DJC-THETA_20180101_20181231.csv', usecols=columns_to_read)\n",
    "\n",
    "# Filter rows where QUEUE_NAME is either 'default' or 'backfill'\n",
    "df = df[df['QUEUE_NAME'].isin(['default'])]\n",
    "df.sort_values(by='COBALT_JOBID', ascending=True, inplace=True)\n",
    "\n",
    "# Convert the 'QUEUED_TIMESTAMP' column to datetime objects\n",
    "df['QUEUED_TIMESTAMP'] = pd.to_datetime(df['QUEUED_TIMESTAMP'])\n",
    "\n",
    "# Get the QUEUED_TIMESTAMP of the first job\n",
    "first_queued_timestamp = df.iloc[0, 'QUEUED_TIMESTAMP']\n",
    "\n",
    "# Initialize an empty list to store the formatted rows\n",
    "formatted_rows = []\n",
    "\n",
    "# Iterate through the DataFrame to format each row\n",
    "for index, row in df.iterrows():\n",
    "    # Calculate the job submit time in seconds\n",
    "    job_submit_time = (row['QUEUED_TIMESTAMP'] - first_queued_timestamp).total_seconds()\n",
    "    \n",
    "    # Format the row according to the specifications\n",
    "    formatted_row = [\n",
    "        index,\n",
    "        int(job_submit_time),\n",
    "        row['QUEUED_WAIT_SECONDS'],\n",
    "        row['RUNTIME_SECONDS'],\n",
    "        row['NODES_REQUESTED'],\n",
    "        -1, -1,\n",
    "        row['NODES_REQUESTED'],\n",
    "        row['WALLTIME_SECONDS'],\n",
    "        -1, 0, -1, -1, -1, -1, -1, -1, -1, 0\n",
    "    ]\n",
    "    formatted_rows.append(formatted_row)\n",
    "\n",
    "# Convert the list of formatted rows to a DataFrame\n",
    "formatted_df = pd.DataFrame(formatted_rows, dtype=int)\n",
    "\n",
    "# Write the DataFrame to a new file named 'theta.swf'\n",
    "output_file_path = 'theta_2018.swf'\n",
    "formatted_df.to_csv(output_file_path, header=False, index=False, sep=' ')\n",
    "\n",
    "header_lines = [\n",
    "    \"; UnixStartTime: 1514764835\",\n",
    "    \"; MaxNodes: 4360\",\n",
    "    \"; MaxProcs: 4360\"\n",
    "]\n",
    "\n",
    "# Read the existing content of the file\n",
    "with open(output_file_path, 'r') as f:\n",
    "    existing_content = f.read()\n",
    "\n",
    "# Combine the header lines and existing content\n",
    "new_content = '\\n'.join(header_lines) + '\\n' + existing_content\n",
    "\n",
    "# Write the new content back to the file\n",
    "with open(output_file_path, 'w') as f:\n",
    "    f.write(new_content)\n"
   ]
  },
  {
   "cell_type": "code",
   "execution_count": null,
   "id": "f5d94da7",
   "metadata": {},
   "outputs": [],
   "source": []
  }
 ],
 "metadata": {
  "kernelspec": {
   "display_name": "Python 3 (ipykernel)",
   "language": "python",
   "name": "python3"
  },
  "language_info": {
   "codemirror_mode": {
    "name": "ipython",
    "version": 3
   },
   "file_extension": ".py",
   "mimetype": "text/x-python",
   "name": "python",
   "nbconvert_exporter": "python",
   "pygments_lexer": "ipython3",
   "version": "3.9.13"
  }
 },
 "nbformat": 4,
 "nbformat_minor": 5
}
